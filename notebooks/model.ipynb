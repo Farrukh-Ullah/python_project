{
 "cells": [
  {
   "cell_type": "code",
   "execution_count": 2,
   "id": "6ccd5a7a",
   "metadata": {},
   "outputs": [],
   "source": [
    "#importing libs\n",
    "import pandas as pd\n",
    "from sklearn.model_selection import train_test_split\n",
    "import numpy as np\n",
    "import matplotlib.pyplot as plt\n",
    "from sklearn.linear_model import LogisticRegression\n",
    "from sklearn.metrics import mean_absolute_error\n",
    "from sklearn.ensemble import RandomForestRegressor"
   ]
  },
  {
   "cell_type": "code",
   "execution_count": 4,
   "id": "b4d3a43f",
   "metadata": {},
   "outputs": [],
   "source": [
    "#loading data\n",
    "df = pd.read_csv('model_df.csv')"
   ]
  },
  {
   "cell_type": "code",
   "execution_count": 5,
   "id": "93519aa5",
   "metadata": {},
   "outputs": [],
   "source": [
    "#applying get_dummies for catagorical data\n",
    "model_df = pd.get_dummies(df)"
   ]
  },
  {
   "cell_type": "code",
   "execution_count": 4,
   "id": "27e9356a",
   "metadata": {},
   "outputs": [
    {
     "data": {
      "text/plain": [
       "(19158, 43)"
      ]
     },
     "execution_count": 4,
     "metadata": {},
     "output_type": "execute_result"
    }
   ],
   "source": [
    "model_df.shape"
   ]
  },
  {
   "cell_type": "code",
   "execution_count": 1,
   "id": "6704ce5d",
   "metadata": {},
   "outputs": [
    {
     "ename": "NameError",
     "evalue": "name 'model_df' is not defined",
     "output_type": "error",
     "traceback": [
      "\u001b[1;31m---------------------------------------------------------------------------\u001b[0m",
      "\u001b[1;31mNameError\u001b[0m                                 Traceback (most recent call last)",
      "\u001b[1;32m~\\AppData\\Local\\Temp/ipykernel_3496/245386659.py\u001b[0m in \u001b[0;36m<module>\u001b[1;34m\u001b[0m\n\u001b[1;32m----> 1\u001b[1;33m \u001b[0mmodel_df\u001b[0m\u001b[1;33m\u001b[0m\u001b[1;33m\u001b[0m\u001b[0m\n\u001b[0m",
      "\u001b[1;31mNameError\u001b[0m: name 'model_df' is not defined"
     ]
    }
   ],
   "source": [
    "model_df"
   ]
  },
  {
   "cell_type": "code",
   "execution_count": 6,
   "id": "9e051ecf",
   "metadata": {},
   "outputs": [],
   "source": [
    "# creating train test data sets\n",
    "from sklearn.model_selection import train_test_split\n",
    "x = model_df.drop('target',axis=1)\n",
    "y = model_df['target']\n",
    "x_train, x_test, y_train, y_test = train_test_split(x, y, test_size=0.2, random_state=2)"
   ]
  },
  {
   "cell_type": "markdown",
   "id": "3121ada9",
   "metadata": {},
   "source": [
    "## Applying models"
   ]
  },
  {
   "cell_type": "markdown",
   "id": "4c63342a",
   "metadata": {},
   "source": [
    "### Logistic Regression"
   ]
  },
  {
   "cell_type": "code",
   "execution_count": 7,
   "id": "de80a08a",
   "metadata": {},
   "outputs": [],
   "source": [
    "# applying logistic regression\n",
    "lr = LogisticRegression()"
   ]
  },
  {
   "cell_type": "code",
   "execution_count": 8,
   "id": "55fd3034",
   "metadata": {},
   "outputs": [
    {
     "name": "stderr",
     "output_type": "stream",
     "text": [
      "C:\\Users\\Hp\\anaconda3\\lib\\site-packages\\sklearn\\linear_model\\_logistic.py:763: ConvergenceWarning: lbfgs failed to converge (status=1):\n",
      "STOP: TOTAL NO. of ITERATIONS REACHED LIMIT.\n",
      "\n",
      "Increase the number of iterations (max_iter) or scale the data as shown in:\n",
      "    https://scikit-learn.org/stable/modules/preprocessing.html\n",
      "Please also refer to the documentation for alternative solver options:\n",
      "    https://scikit-learn.org/stable/modules/linear_model.html#logistic-regression\n",
      "  n_iter_i = _check_optimize_result(\n"
     ]
    },
    {
     "data": {
      "text/plain": [
       "LogisticRegression()"
      ]
     },
     "execution_count": 8,
     "metadata": {},
     "output_type": "execute_result"
    }
   ],
   "source": [
    "lr.fit(x_train,y_train)"
   ]
  },
  {
   "cell_type": "code",
   "execution_count": 9,
   "id": "885f81eb",
   "metadata": {},
   "outputs": [],
   "source": [
    "#fixing"
   ]
  },
  {
   "cell_type": "code",
   "execution_count": 12,
   "id": "fedb8c98",
   "metadata": {},
   "outputs": [],
   "source": [
    "from sklearn import preprocessing\n",
    "scaler = preprocessing.StandardScaler().fit(x_train)"
   ]
  },
  {
   "cell_type": "code",
   "execution_count": 13,
   "id": "954afee1",
   "metadata": {},
   "outputs": [
    {
     "data": {
      "text/plain": [
       "array([9.57114838e+03, 8.17825917e-01, 7.20214015e-01, 6.53882944e+01,\n",
       "       8.03911653e+01, 8.28593501e+01, 1.94767063e-01, 6.21166645e-02,\n",
       "       7.23933185e-01, 6.02244552e-01, 1.05050241e-01, 2.31045283e-01,\n",
       "       2.16625343e-02, 1.57249119e-02, 1.40936970e-02, 1.73561268e-02,\n",
       "       3.47775023e-02, 1.17447475e-02, 1.90525904e-02, 7.56296490e-01,\n",
       "       3.17108182e-02, 5.14158946e-02, 2.74696594e-02, 6.59010831e-03,\n",
       "       5.01109226e-02, 5.12266736e-01, 1.25342555e-01, 4.23137153e-01,\n",
       "       1.50789508e-01, 5.27861151e-02, 5.32428553e-02, 1.72843534e-01,\n",
       "       5.60485450e-02, 2.89964766e-01, 4.85058071e-01, 1.65731437e-01,\n",
       "       3.19718126e-03, 9.79381443e-02, 1.78911653e-01, 3.06276915e-01,\n",
       "       3.10191831e-01, 1.06681456e-01])"
      ]
     },
     "execution_count": 13,
     "metadata": {},
     "output_type": "execute_result"
    }
   ],
   "source": [
    "scaler = preprocessing.StandardScaler().fit(x_train)\n",
    "scaler.mean_"
   ]
  },
  {
   "cell_type": "code",
   "execution_count": 14,
   "id": "51bcb2b2",
   "metadata": {},
   "outputs": [
    {
     "data": {
      "text/plain": [
       "array([5.51696270e+03, 5.24573611e-01, 4.48893960e-01, 6.02431577e+01,\n",
       "       4.66019374e+01, 1.23439049e+01, 3.96021280e-01, 2.41367323e-01,\n",
       "       4.47050253e-01, 4.89434420e-01, 3.06618147e-01, 4.21501317e-01,\n",
       "       1.45579081e-01, 1.24409160e-01, 1.17877329e-01, 1.30594379e-01,\n",
       "       1.83215795e-01, 1.07734899e-01, 1.36709872e-01, 4.29315862e-01,\n",
       "       1.75229114e-01, 2.20844516e-01, 1.63447475e-01, 8.09115491e-02,\n",
       "       2.18173825e-01, 4.99849505e-01, 3.31106930e-01, 4.94056781e-01,\n",
       "       3.57843586e-01, 2.23606219e-01, 2.24517379e-01, 3.78111950e-01,\n",
       "       2.30015446e-01, 4.53745744e-01, 4.99776689e-01, 3.71839384e-01,\n",
       "       5.64531602e-02, 2.97230995e-01, 3.83278324e-01, 4.60946164e-01,\n",
       "       4.62572004e-01, 3.08707828e-01])"
      ]
     },
     "execution_count": 14,
     "metadata": {},
     "output_type": "execute_result"
    }
   ],
   "source": [
    "scaler.scale_"
   ]
  },
  {
   "cell_type": "code",
   "execution_count": 18,
   "id": "713f5379",
   "metadata": {},
   "outputs": [],
   "source": [
    "x_scaled = scaler.transform(x_train)"
   ]
  },
  {
   "cell_type": "code",
   "execution_count": 17,
   "id": "627dff15",
   "metadata": {},
   "outputs": [
    {
     "data": {
      "text/plain": [
       "LogisticRegression()"
      ]
     },
     "execution_count": 17,
     "metadata": {},
     "output_type": "execute_result"
    }
   ],
   "source": [
    "lr.fit(x_scaled,y_train)"
   ]
  },
  {
   "cell_type": "code",
   "execution_count": 19,
   "id": "553487b4",
   "metadata": {},
   "outputs": [],
   "source": [
    "pred = lr.predict(x_test)"
   ]
  },
  {
   "cell_type": "code",
   "execution_count": 20,
   "id": "77b6709b",
   "metadata": {},
   "outputs": [
    {
     "data": {
      "text/plain": [
       "0.5636743215031316"
      ]
     },
     "execution_count": 20,
     "metadata": {},
     "output_type": "execute_result"
    }
   ],
   "source": [
    "mean_absolute_error(y_test,pred)"
   ]
  },
  {
   "cell_type": "markdown",
   "id": "9b0819b4",
   "metadata": {},
   "source": [
    "## Random forest"
   ]
  },
  {
   "cell_type": "code",
   "execution_count": 22,
   "id": "8479fa63",
   "metadata": {},
   "outputs": [],
   "source": [
    "rf = RandomForestRegressor()"
   ]
  },
  {
   "cell_type": "code",
   "execution_count": 23,
   "id": "4aa9633d",
   "metadata": {},
   "outputs": [
    {
     "data": {
      "text/plain": [
       "RandomForestRegressor()"
      ]
     },
     "execution_count": 23,
     "metadata": {},
     "output_type": "execute_result"
    }
   ],
   "source": [
    "rf.fit(x_train,y_train)"
   ]
  },
  {
   "cell_type": "code",
   "execution_count": 24,
   "id": "c910c8af",
   "metadata": {},
   "outputs": [],
   "source": [
    "pred1 = rf.predict(x_test)"
   ]
  },
  {
   "cell_type": "code",
   "execution_count": 25,
   "id": "76f5e585",
   "metadata": {},
   "outputs": [
    {
     "data": {
      "text/plain": [
       "0.282562630480167"
      ]
     },
     "execution_count": 25,
     "metadata": {},
     "output_type": "execute_result"
    }
   ],
   "source": [
    "mean_absolute_error(y_test,pred1)"
   ]
  }
 ],
 "metadata": {
  "kernelspec": {
   "display_name": "Python 3 (ipykernel)",
   "language": "python",
   "name": "python3"
  },
  "language_info": {
   "codemirror_mode": {
    "name": "ipython",
    "version": 3
   },
   "file_extension": ".py",
   "mimetype": "text/x-python",
   "name": "python",
   "nbconvert_exporter": "python",
   "pygments_lexer": "ipython3",
   "version": "3.9.7"
  }
 },
 "nbformat": 4,
 "nbformat_minor": 5
}
